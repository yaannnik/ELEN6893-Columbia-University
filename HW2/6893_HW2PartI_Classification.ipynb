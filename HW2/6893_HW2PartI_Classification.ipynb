{
 "cells": [
  {
   "cell_type": "code",
   "execution_count": 1,
   "metadata": {
    "id": "6hKq-n7G62-2"
   },
   "outputs": [],
   "source": [
    "from pyspark.sql import SparkSession\n",
    "import matplotlib.pyplot as plt\n",
    "%matplotlib inline\n",
    "import numpy as np"
   ]
  },
  {
   "cell_type": "markdown",
   "metadata": {
    "id": "V5_jvhfhtFCj"
   },
   "source": [
    "1. Data loading"
   ]
  },
  {
   "cell_type": "code",
   "execution_count": 2,
   "metadata": {
    "id": "_Yi3ww9VtSKs"
   },
   "outputs": [
    {
     "name": "stdout",
     "output_type": "stream",
     "text": [
      "+---+-----------------+--------+----------+----+-------------------+------------------+--------------+------+-----+------+----+----+--------------+------+\n",
      "|_c0|              _c1|     _c2|       _c3| _c4|                _c5|               _c6|           _c7|   _c8|  _c9|  _c10|_c11|_c12|          _c13|  _c14|\n",
      "+---+-----------------+--------+----------+----+-------------------+------------------+--------------+------+-----+------+----+----+--------------+------+\n",
      "| 39|        State-gov| 77516.0| Bachelors|13.0|      Never-married|      Adm-clerical| Not-in-family| White| Male|2174.0| 0.0|40.0| United-States| <=50K|\n",
      "| 50| Self-emp-not-inc| 83311.0| Bachelors|13.0| Married-civ-spouse|   Exec-managerial|       Husband| White| Male|   0.0| 0.0|13.0| United-States| <=50K|\n",
      "| 38|          Private|215646.0|   HS-grad| 9.0|           Divorced| Handlers-cleaners| Not-in-family| White| Male|   0.0| 0.0|40.0| United-States| <=50K|\n",
      "+---+-----------------+--------+----------+----+-------------------+------------------+--------------+------+-----+------+----+----+--------------+------+\n",
      "only showing top 3 rows\n",
      "\n"
     ]
    }
   ],
   "source": [
    "#Read csv file to dataframe\n",
    "#=====your code here==========\n",
    "\n",
    "spark = SparkSession.builder \\\n",
    "    .appName('CSV_Handler').getOrCreate()\n",
    "\n",
    "data = spark.read.options(header=False, inferSchema=True) \\\n",
    "    .csv('./adult.data.csv')\n",
    "\n",
    "#===============================\n",
    "data.show(3)"
   ]
  },
  {
   "cell_type": "code",
   "execution_count": 3,
   "metadata": {
    "id": "i9ZrT0OR79To"
   },
   "outputs": [],
   "source": [
    "from functools import reduce"
   ]
  },
  {
   "cell_type": "code",
   "execution_count": 4,
   "metadata": {
    "id": "u9vNg2LFtoJK"
   },
   "outputs": [
    {
     "name": "stdout",
     "output_type": "stream",
     "text": [
      "root\n",
      " |-- age: integer (nullable = true)\n",
      " |-- workclass: string (nullable = true)\n",
      " |-- fnlwgt: double (nullable = true)\n",
      " |-- education: string (nullable = true)\n",
      " |-- education_num: double (nullable = true)\n",
      " |-- marital_status: string (nullable = true)\n",
      " |-- occupation: string (nullable = true)\n",
      " |-- relationship: string (nullable = true)\n",
      " |-- race: string (nullable = true)\n",
      " |-- sex: string (nullable = true)\n",
      " |-- capital_gain: double (nullable = true)\n",
      " |-- capital_loss: double (nullable = true)\n",
      " |-- hours_per_week: double (nullable = true)\n",
      " |-- native_country: string (nullable = true)\n",
      " |-- income: string (nullable = true)\n",
      "\n",
      "+---+-----------------+-------+----------+-------------+-------------------+----------------+--------------+------+-----+------------+------------+--------------+--------------+------+\n",
      "|age|        workclass| fnlwgt| education|education_num|     marital_status|      occupation|  relationship|  race|  sex|capital_gain|capital_loss|hours_per_week|native_country|income|\n",
      "+---+-----------------+-------+----------+-------------+-------------------+----------------+--------------+------+-----+------------+------------+--------------+--------------+------+\n",
      "| 39|        State-gov|77516.0| Bachelors|         13.0|      Never-married|    Adm-clerical| Not-in-family| White| Male|      2174.0|         0.0|          40.0| United-States| <=50K|\n",
      "| 50| Self-emp-not-inc|83311.0| Bachelors|         13.0| Married-civ-spouse| Exec-managerial|       Husband| White| Male|         0.0|         0.0|          13.0| United-States| <=50K|\n",
      "+---+-----------------+-------+----------+-------------+-------------------+----------------+--------------+------+-----+------------+------------+--------------+--------------+------+\n",
      "only showing top 2 rows\n",
      "\n"
     ]
    }
   ],
   "source": [
    "#change the column names of dataframe\n",
    "df = data.withColumnRenamed('_c0','age').withColumnRenamed('_c1','workclass').withColumnRenamed('_c2','fnlwgt')\\\n",
    ".withColumnRenamed('_c3', 'education').withColumnRenamed('_c4', 'education_num')\\\n",
    ".withColumnRenamed('_c5','marital_status').withColumnRenamed('_c6', 'occupation').withColumnRenamed('_c7', 'relationship')\\\n",
    ".withColumnRenamed('_c8', 'race').withColumnRenamed('_c9', 'sex').withColumnRenamed('_c10', 'capital_gain')\\\n",
    ".withColumnRenamed('_c11', 'capital_loss').withColumnRenamed('_c12','hours_per_week')\\\n",
    ".withColumnRenamed('_c13', 'native_country').withColumnRenamed('_c14', 'income')\n",
    "\n",
    "df.printSchema()\n",
    "df.show(2)\n",
    "\n",
    "dataset = df"
   ]
  },
  {
   "cell_type": "markdown",
   "metadata": {
    "id": "CeRTQAUE6VfO"
   },
   "source": [
    "2. Data preprocessing"
   ]
  },
  {
   "cell_type": "code",
   "execution_count": 5,
   "metadata": {
    "id": "3TKctNhO6bHG"
   },
   "outputs": [],
   "source": [
    "from pyspark.ml import Pipeline\n",
    "from pyspark.ml.feature import OneHotEncoder, StringIndexer, VectorAssembler"
   ]
  },
  {
   "cell_type": "code",
   "execution_count": 6,
   "metadata": {
    "id": "_83QyptU_nDE"
   },
   "outputs": [],
   "source": [
    "#stages in our Pipeline\n",
    "stages = []\n",
    "categoricalColumns = [\"workclass\",\"education\",\"marital_status\",\"occupation\",\"relationship\",\"race\",\"sex\",\"native_country\"]"
   ]
  },
  {
   "cell_type": "code",
   "execution_count": 7,
   "metadata": {
    "id": "CWCBHX35A4s1"
   },
   "outputs": [],
   "source": [
    "for categoricalCol in categoricalColumns:\n",
    "    # Category Indexing with StringIndexer\n",
    "    stringIndexer = StringIndexer(inputCol=categoricalCol, outputCol=categoricalCol + \"Index\")\n",
    "    # Use OneHotEncoder to convert categorical variables into binary SparseVectors\n",
    "    encoder = OneHotEncoder(inputCols=[stringIndexer.getOutputCol()], outputCols=[categoricalCol + \"classVec\"])\n",
    "    # Add stages.  These are not run here, but will run all at once later on.\n",
    "    stages += [stringIndexer, encoder]\n"
   ]
  },
  {
   "cell_type": "code",
   "execution_count": 8,
   "metadata": {
    "id": "iNkhx2QVA-1b"
   },
   "outputs": [],
   "source": [
    "# Convert label into label indices using the StringIndexer\n",
    "label_stringIdx = StringIndexer(inputCol=\"income\", outputCol=\"label\")\n",
    "stages += [label_stringIdx]"
   ]
  },
  {
   "cell_type": "code",
   "execution_count": 9,
   "metadata": {
    "id": "BB4TOB6MBCJ3"
   },
   "outputs": [],
   "source": [
    "# Transform all features into a vector using VectorAssembler\n",
    "numericCols = [\"age\", \"fnlwgt\", \"education_num\", \"capital_gain\", \"capital_loss\", \"hours_per_week\"]\n",
    "assemblerInputs = [c + \"classVec\" for c in categoricalColumns] + numericCols\n",
    "assembler = VectorAssembler(inputCols=assemblerInputs, outputCol=\"features\")\n",
    "stages += [assembler]"
   ]
  },
  {
   "cell_type": "code",
   "execution_count": 10,
   "metadata": {
    "id": "Ab0WDG00Bqc0"
   },
   "outputs": [],
   "source": [
    "pipeline = Pipeline(stages=stages)\n",
    "pipelineModel = pipeline.fit(dataset)\n",
    "preppedDataDF = pipelineModel.transform(dataset)"
   ]
  },
  {
   "cell_type": "code",
   "execution_count": 11,
   "metadata": {
    "id": "-x6nXJUiByOE"
   },
   "outputs": [
    {
     "data": {
      "text/plain": [
       "[Row(age=39, workclass=' State-gov', fnlwgt=77516.0, education=' Bachelors', education_num=13.0, marital_status=' Never-married', occupation=' Adm-clerical', relationship=' Not-in-family', race=' White', sex=' Male', capital_gain=2174.0, capital_loss=0.0, hours_per_week=40.0, native_country=' United-States', income=' <=50K', workclassIndex=4.0, workclassclassVec=SparseVector(8, {4: 1.0}), educationIndex=2.0, educationclassVec=SparseVector(15, {2: 1.0}), marital_statusIndex=1.0, marital_statusclassVec=SparseVector(6, {1: 1.0}), occupationIndex=3.0, occupationclassVec=SparseVector(14, {3: 1.0}), relationshipIndex=1.0, relationshipclassVec=SparseVector(5, {1: 1.0}), raceIndex=0.0, raceclassVec=SparseVector(4, {0: 1.0}), sexIndex=0.0, sexclassVec=SparseVector(1, {0: 1.0}), native_countryIndex=0.0, native_countryclassVec=SparseVector(41, {0: 1.0}), label=0.0, features=SparseVector(100, {4: 1.0, 10: 1.0, 24: 1.0, 32: 1.0, 44: 1.0, 48: 1.0, 52: 1.0, 53: 1.0, 94: 39.0, 95: 77516.0, 96: 13.0, 97: 2174.0, 99: 40.0})),\n",
       " Row(age=50, workclass=' Self-emp-not-inc', fnlwgt=83311.0, education=' Bachelors', education_num=13.0, marital_status=' Married-civ-spouse', occupation=' Exec-managerial', relationship=' Husband', race=' White', sex=' Male', capital_gain=0.0, capital_loss=0.0, hours_per_week=13.0, native_country=' United-States', income=' <=50K', workclassIndex=1.0, workclassclassVec=SparseVector(8, {1: 1.0}), educationIndex=2.0, educationclassVec=SparseVector(15, {2: 1.0}), marital_statusIndex=0.0, marital_statusclassVec=SparseVector(6, {0: 1.0}), occupationIndex=2.0, occupationclassVec=SparseVector(14, {2: 1.0}), relationshipIndex=0.0, relationshipclassVec=SparseVector(5, {0: 1.0}), raceIndex=0.0, raceclassVec=SparseVector(4, {0: 1.0}), sexIndex=0.0, sexclassVec=SparseVector(1, {0: 1.0}), native_countryIndex=0.0, native_countryclassVec=SparseVector(41, {0: 1.0}), label=0.0, features=SparseVector(100, {1: 1.0, 10: 1.0, 23: 1.0, 31: 1.0, 43: 1.0, 48: 1.0, 52: 1.0, 53: 1.0, 94: 50.0, 95: 83311.0, 96: 13.0, 99: 13.0})),\n",
       " Row(age=38, workclass=' Private', fnlwgt=215646.0, education=' HS-grad', education_num=9.0, marital_status=' Divorced', occupation=' Handlers-cleaners', relationship=' Not-in-family', race=' White', sex=' Male', capital_gain=0.0, capital_loss=0.0, hours_per_week=40.0, native_country=' United-States', income=' <=50K', workclassIndex=0.0, workclassclassVec=SparseVector(8, {0: 1.0}), educationIndex=0.0, educationclassVec=SparseVector(15, {0: 1.0}), marital_statusIndex=2.0, marital_statusclassVec=SparseVector(6, {2: 1.0}), occupationIndex=9.0, occupationclassVec=SparseVector(14, {9: 1.0}), relationshipIndex=1.0, relationshipclassVec=SparseVector(5, {1: 1.0}), raceIndex=0.0, raceclassVec=SparseVector(4, {0: 1.0}), sexIndex=0.0, sexclassVec=SparseVector(1, {0: 1.0}), native_countryIndex=0.0, native_countryclassVec=SparseVector(41, {0: 1.0}), label=0.0, features=SparseVector(100, {0: 1.0, 8: 1.0, 25: 1.0, 38: 1.0, 44: 1.0, 48: 1.0, 52: 1.0, 53: 1.0, 94: 38.0, 95: 215646.0, 96: 9.0, 99: 40.0}))]"
      ]
     },
     "execution_count": 11,
     "metadata": {},
     "output_type": "execute_result"
    }
   ],
   "source": [
    "preppedDataDF.take(3)"
   ]
  },
  {
   "cell_type": "code",
   "execution_count": 12,
   "metadata": {
    "id": "NPONX19OB2Tu"
   },
   "outputs": [
    {
     "data": {
      "text/plain": [
       "DataFrame[label: double, features: vector, age: int, workclass: string, fnlwgt: double, education: string, education_num: double, marital_status: string, occupation: string, relationship: string, race: string, sex: string, capital_gain: double, capital_loss: double, hours_per_week: double, native_country: string, income: string]"
      ]
     },
     "metadata": {},
     "output_type": "display_data"
    }
   ],
   "source": [
    "# Keep relevant columns\n",
    "cols = dataset.columns\n",
    "selectedcols = [\"label\", \"features\"] + cols\n",
    "dataset = preppedDataDF.select(selectedcols)\n",
    "display(dataset)"
   ]
  },
  {
   "cell_type": "code",
   "execution_count": 13,
   "metadata": {
    "id": "ZYB1oCw4CJuc"
   },
   "outputs": [
    {
     "name": "stdout",
     "output_type": "stream",
     "text": [
      "22832\n",
      "9729\n"
     ]
    }
   ],
   "source": [
    "### Randomly split data into training and test sets. set seed for reproducibility\n",
    "#=====your code here==========\n",
    "\n",
    "[trainingData, testData] = dataset.randomSplit([0.7, 0.3], seed=100)\n",
    "\n",
    "method_list = []\n",
    "accuracy_list = []\n",
    "\n",
    "#===============================\n",
    "print(trainingData.count())\n",
    "print(testData.count())"
   ]
  },
  {
   "cell_type": "markdown",
   "metadata": {
    "id": "STxwMITSBLEH"
   },
   "source": [
    "3. Modeling"
   ]
  },
  {
   "cell_type": "code",
   "execution_count": 14,
   "metadata": {
    "id": "2mej0dQPC22x"
   },
   "outputs": [
    {
     "data": {
      "image/png": "[encoded data removed]",
      "text/plain": [
       "<Figure size 432x288 with 1 Axes>"
      ]
     },
     "metadata": {
      "needs_background": "light"
     },
     "output_type": "display_data"
    },
    {
     "data": {
      "image/png": "[encoded data removed]",
      "text/plain": [
       "<Figure size 432x288 with 1 Axes>"
      ]
     },
     "metadata": {
      "needs_background": "light"
     },
     "output_type": "display_data"
    },
    {
     "name": "stdout",
     "output_type": "stream",
     "text": [
      "+-----+----------+--------------------+\n",
      "|label|prediction|            features|\n",
      "+-----+----------+--------------------+\n",
      "|  0.0|       1.0|(100,[0,8,23,29,4...|\n",
      "|  0.0|       0.0|(100,[0,8,23,29,4...|\n",
      "|  0.0|       1.0|(100,[0,8,23,29,4...|\n",
      "|  0.0|       0.0|(100,[0,8,23,29,4...|\n",
      "|  0.0|       0.0|(100,[0,8,23,29,4...|\n",
      "+-----+----------+--------------------+\n",
      "only showing top 5 rows\n",
      "\n",
      "Test set accuracy = 0.8446911296124987\n"
     ]
    }
   ],
   "source": [
    "# Fit model to prepped data\n",
    "\n",
    "#LogisticRegression model, maxIter=10\n",
    "#=====your code here==========\n",
    "\n",
    "from pyspark.ml.classification import LogisticRegression\n",
    "from pyspark.ml.evaluation import MulticlassClassificationEvaluator\n",
    "\n",
    "lr = LogisticRegression(maxIter=10)\n",
    "\n",
    "lrModel = lr.fit(trainingData)\n",
    "\n",
    "trainingSummary = lrModel.summary\n",
    "\n",
    "roc = trainingSummary.roc\n",
    "roc = roc.rdd.map(lambda row: (row[\"FPR\"], row[\"TPR\"])).collect()\n",
    "fp, tp = [x[0] for x in roc], [x[1] for x in roc]\n",
    "plt.plot(fp, tp)\n",
    "plt.xlabel(\"Fasle Positive Rate\", fontdict={'weight': 'normal', 'size': 12})\n",
    "plt.ylabel(\"True Positive Rate\", fontdict={'weight': 'normal', 'size': 12})\n",
    "plt.title(\"ROC Curve\")\n",
    "plt.show()\n",
    "\n",
    "pr = trainingSummary.pr\n",
    "pr = pr.rdd.map(lambda row: (row[\"recall\"], row[\"precision\"])).collect()\n",
    "r, p = [x[0] for x in pr], [x[1] for x in pr]\n",
    "plt.plot(r, p)\n",
    "plt.xlabel(\"Recall\", fontdict={'weight': 'normal', 'size': 12})\n",
    "plt.ylabel(\"Precision\", fontdict={'weight': 'normal', 'size': 12})\n",
    "plt.title(\"Precision-Recall Curve\")\n",
    "plt.show()\n",
    "#===============================\n",
    "\n",
    "# select example rows to display.\n",
    "predictions = lrModel.transform(testData)\n",
    "predictions.select(\"label\", \"prediction\", \"features\").show(5)\n",
    "\n",
    "# compute accuracy on the test set\n",
    "evaluator = MulticlassClassificationEvaluator(\n",
    "    labelCol=\"label\", predictionCol=\"prediction\", metricName=\"accuracy\")\n",
    "accuracy = evaluator.evaluate(predictions)\n",
    "print(\"Test set accuracy = \" + str(accuracy))\n",
    "\n",
    "method_list.append(\"LR\")\n",
    "accuracy_list.append(accuracy)"
   ]
  },
  {
   "cell_type": "code",
   "execution_count": 15,
   "metadata": {
    "id": "7AwIbeIwbpsY"
   },
   "outputs": [
    {
     "data": {
      "image/png": "[encoded data removed]",
      "text/plain": [
       "<Figure size 432x288 with 1 Axes>"
      ]
     },
     "metadata": {
      "needs_background": "light"
     },
     "output_type": "display_data"
    },
    {
     "data": {
      "image/png": "[encoded data removed]",
      "text/plain": [
       "<Figure size 432x288 with 1 Axes>"
      ]
     },
     "metadata": {
      "needs_background": "light"
     },
     "output_type": "display_data"
    },
    {
     "name": "stdout",
     "output_type": "stream",
     "text": [
      "+--------------+-----+--------------------+\n",
      "|predictedLabel|label|            features|\n",
      "+--------------+-----+--------------------+\n",
      "|           0.0|  0.0|(100,[0,8,23,29,4...|\n",
      "|           0.0|  0.0|(100,[0,8,23,29,4...|\n",
      "|           0.0|  0.0|(100,[0,8,23,29,4...|\n",
      "|           0.0|  0.0|(100,[0,8,23,29,4...|\n",
      "|           0.0|  0.0|(100,[0,8,23,29,4...|\n",
      "+--------------+-----+--------------------+\n",
      "only showing top 5 rows\n",
      "\n",
      "Test set accuracy = 0.8173501901531504\n"
     ]
    }
   ],
   "source": [
    "#Random Forest\n",
    "\n",
    "from pyspark.ml import Pipeline\n",
    "from pyspark.ml.classification import RandomForestClassifier\n",
    "from pyspark.ml.feature import IndexToString, StringIndexer, VectorIndexer\n",
    "from pyspark.ml.evaluation import MulticlassClassificationEvaluator\n",
    "\n",
    "# Index labels, adding metadata to the label column.\n",
    "# Fit on whole dataset to include all labels in index.\n",
    "labelIndexer = StringIndexer(inputCol=\"label\", outputCol=\"indexedLabel\").fit(dataset)\n",
    "\n",
    "# Automatically identify categorical features, and index them.\n",
    "# Set maxCategories so features with > 4 distinct values are treated as continuous.\n",
    "featureIndexer = \\\n",
    "    VectorIndexer(inputCol=\"features\", outputCol=\"indexedFeatures\", maxCategories=4).fit(dataset)\n",
    "\n",
    "\n",
    "# Train a RandomForest model.\n",
    "rf = RandomForestClassifier(labelCol=\"indexedLabel\", featuresCol=\"indexedFeatures\", numTrees=10)\n",
    "\n",
    "# Convert indexed labels back to original labels.\n",
    "labelConverter = IndexToString(inputCol=\"prediction\", outputCol=\"predictedLabel\",\n",
    "                               labels=labelIndexer.labels)\n",
    "\n",
    "# Chain indexers and forest in a Pipeline\n",
    "pipeline = Pipeline(stages=[labelIndexer, featureIndexer, rf, labelConverter])\n",
    "\n",
    "# Train model.  This also runs the indexers.\n",
    "rfModel = pipeline.fit(trainingData)\n",
    "\n",
    "trainingSummary = rfModel.stages[-2].summary\n",
    "\n",
    "roc = trainingSummary.roc\n",
    "roc = roc.rdd.map(lambda row: (row[\"FPR\"], row[\"TPR\"])).collect()\n",
    "fp, tp = [x[0] for x in roc], [x[1] for x in roc]\n",
    "plt.plot(fp, tp)\n",
    "plt.xlabel(\"Fasle Positive Rate\", fontdict={'weight': 'normal', 'size': 12})\n",
    "plt.ylabel(\"True Positive Rate\", fontdict={'weight': 'normal', 'size': 12})\n",
    "plt.title(\"ROC Curve\")\n",
    "plt.show()\n",
    "\n",
    "pr = trainingSummary.pr\n",
    "pr = pr.rdd.map(lambda row: (row[\"recall\"], row[\"precision\"])).collect()\n",
    "r, p = [x[0] for x in pr], [x[1] for x in pr]\n",
    "plt.plot(r, p)\n",
    "plt.xlabel(\"Recall\", fontdict={'weight': 'normal', 'size': 12})\n",
    "plt.ylabel(\"Precision\", fontdict={'weight': 'normal', 'size': 12})\n",
    "plt.title(\"Precision-Recall Curve\")\n",
    "plt.show()\n",
    "\n",
    "# Make predictions.\n",
    "predictions = rfModel.transform(testData)\n",
    "\n",
    "# Select example rows to display.\n",
    "predictions.select(\"predictedLabel\", \"label\", \"features\").show(5)\n",
    "\n",
    "# Select (prediction, true label) and compute test error\n",
    "evaluator = MulticlassClassificationEvaluator(\n",
    "    labelCol=\"indexedLabel\", predictionCol=\"prediction\", metricName=\"accuracy\")\n",
    "accuracy = evaluator.evaluate(predictions)\n",
    "print(\"Test set accuracy = \" + str(accuracy))\n",
    "\n",
    "method_list.append(\"RF\")\n",
    "accuracy_list.append(accuracy)"
   ]
  },
  {
   "cell_type": "code",
   "execution_count": 16,
   "metadata": {
    "id": "PHc1qAd6Skf1"
   },
   "outputs": [
    {
     "name": "stdout",
     "output_type": "stream",
     "text": [
      "+-----+----------+--------------------+\n",
      "|label|prediction|            features|\n",
      "+-----+----------+--------------------+\n",
      "|  0.0|       0.0|(100,[0,8,23,29,4...|\n",
      "|  0.0|       0.0|(100,[0,8,23,29,4...|\n",
      "|  0.0|       0.0|(100,[0,8,23,29,4...|\n",
      "|  0.0|       0.0|(100,[0,8,23,29,4...|\n",
      "|  0.0|       0.0|(100,[0,8,23,29,4...|\n",
      "+-----+----------+--------------------+\n",
      "only showing top 5 rows\n",
      "\n",
      "Test set accuracy = 0.7796279165381849\n"
     ]
    }
   ],
   "source": [
    "#NaiveBayes\n",
    "#=====your code here==========\n",
    "\n",
    "from pyspark.ml.classification import NaiveBayes\n",
    "from pyspark.ml.evaluation import MulticlassClassificationEvaluator\n",
    "\n",
    "# create the trainer and set its parameters\n",
    "nb = NaiveBayes(smoothing=1.0, modelType=\"multinomial\")\n",
    "\n",
    "# train the model\n",
    "nbModel = nb.fit(trainingData)\n",
    "\n",
    "#===============================\n",
    "\n",
    "# select example rows to display.\n",
    "predictions = nbModel.transform(testData)\n",
    "predictions.select(\"label\", \"prediction\", \"features\").show(5)\n",
    "\n",
    "# compute accuracy on the test set\n",
    "evaluator = MulticlassClassificationEvaluator(\n",
    "    labelCol=\"label\", predictionCol=\"prediction\", metricName=\"accuracy\")\n",
    "accuracy = evaluator.evaluate(predictions)\n",
    "print(\"Test set accuracy = \" + str(accuracy))\n",
    "\n",
    "method_list.append(\"NB\")\n",
    "accuracy_list.append(accuracy)"
   ]
  },
  {
   "cell_type": "code",
   "execution_count": 17,
   "metadata": {
    "id": "PBbr8btnbyV3"
   },
   "outputs": [
    {
     "name": "stdout",
     "output_type": "stream",
     "text": [
      "+----------+------------+--------------------+\n",
      "|prediction|indexedLabel|            features|\n",
      "+----------+------------+--------------------+\n",
      "|       0.0|         0.0|(100,[0,8,23,29,4...|\n",
      "|       0.0|         0.0|(100,[0,8,23,29,4...|\n",
      "|       0.0|         0.0|(100,[0,8,23,29,4...|\n",
      "|       0.0|         0.0|(100,[0,8,23,29,4...|\n",
      "|       0.0|         0.0|(100,[0,8,23,29,4...|\n",
      "+----------+------------+--------------------+\n",
      "only showing top 5 rows\n",
      "\n",
      "Test set accuracy =  0.8367766471374242\n"
     ]
    }
   ],
   "source": [
    "#Decision Tree\n",
    "\n",
    "from pyspark.ml import Pipeline\n",
    "from pyspark.ml.classification import DecisionTreeClassifier\n",
    "from pyspark.ml.feature import StringIndexer, VectorIndexer\n",
    "from pyspark.ml.evaluation import MulticlassClassificationEvaluator\n",
    "\n",
    "# Index labels, adding metadata to the label column.\n",
    "# Fit on whole dataset to include all labels in index.\n",
    "labelIndexer = StringIndexer(inputCol=\"label\", outputCol=\"indexedLabel\").fit(dataset)\n",
    "\n",
    "# Automatically identify categorical features, and index them.\n",
    "# We specify maxCategories so features with > 4 distinct values are treated as continuous.\n",
    "featureIndexer = \\\n",
    "    VectorIndexer(inputCol=\"features\", outputCol=\"indexedFeatures\", maxCategories=4).fit(dataset)\n",
    "\n",
    "# Train a DecisionTree model.\n",
    "dt = DecisionTreeClassifier(labelCol=\"indexedLabel\", featuresCol=\"indexedFeatures\")\n",
    "\n",
    "# Chain indexers and tree in a Pipeline\n",
    "pipeline = Pipeline(stages=[labelIndexer, featureIndexer, dt])\n",
    "\n",
    "# Train model.  This also runs the indexers.\n",
    "dtModel = pipeline.fit(trainingData)\n",
    "\n",
    "# Make predictions.\n",
    "predictions = dtModel.transform(testData)\n",
    "\n",
    "# Select example rows to display.\n",
    "predictions.select(\"prediction\", \"indexedLabel\", \"features\").show(5)\n",
    "\n",
    "# Select (prediction, true label) and compute test error\n",
    "evaluator = MulticlassClassificationEvaluator(\n",
    "    labelCol=\"indexedLabel\", predictionCol=\"prediction\", metricName=\"accuracy\")\n",
    "accuracy = evaluator.evaluate(predictions)\n",
    "print(\"Test set accuracy = \", str(accuracy))\n",
    "\n",
    "method_list.append(\"DT\")\n",
    "accuracy_list.append(accuracy)"
   ]
  },
  {
   "cell_type": "code",
   "execution_count": 18,
   "metadata": {
    "id": "4nccBiy_b8KT"
   },
   "outputs": [
    {
     "name": "stdout",
     "output_type": "stream",
     "text": [
      "+----------+------------+--------------------+\n",
      "|prediction|indexedLabel|            features|\n",
      "+----------+------------+--------------------+\n",
      "|       1.0|         0.0|(100,[0,8,23,29,4...|\n",
      "|       0.0|         0.0|(100,[0,8,23,29,4...|\n",
      "|       0.0|         0.0|(100,[0,8,23,29,4...|\n",
      "|       0.0|         0.0|(100,[0,8,23,29,4...|\n",
      "|       0.0|         0.0|(100,[0,8,23,29,4...|\n",
      "+----------+------------+--------------------+\n",
      "only showing top 5 rows\n",
      "\n",
      "Test set accuracy =  0.8477746942131771\n"
     ]
    }
   ],
   "source": [
    "#Gradient Boosting Trees\n",
    "\n",
    "from pyspark.ml import Pipeline\n",
    "from pyspark.ml.classification import GBTClassifier\n",
    "from pyspark.ml.feature import StringIndexer, VectorIndexer\n",
    "from pyspark.ml.evaluation import MulticlassClassificationEvaluator\n",
    "\n",
    "# Index labels, adding metadata to the label column.\n",
    "# Fit on whole dataset to include all labels in index.\n",
    "labelIndexer = StringIndexer(inputCol=\"label\", outputCol=\"indexedLabel\").fit(dataset)\n",
    "\n",
    "# Automatically identify categorical features, and index them.\n",
    "# Set maxCategories so features with > 4 distinct values are treated as continuous.\n",
    "featureIndexer = \\\n",
    "    VectorIndexer(inputCol=\"features\", outputCol=\"indexedFeatures\", maxCategories=4).fit(dataset)\n",
    "\n",
    "# Train a GBT model.\n",
    "gbt = GBTClassifier(labelCol=\"indexedLabel\", featuresCol=\"indexedFeatures\", maxIter=10)\n",
    "\n",
    "# Chain indexers and GBT in a Pipeline\n",
    "pipeline = Pipeline(stages=[labelIndexer, featureIndexer, gbt])\n",
    "\n",
    "# Train model.  This also runs the indexers.\n",
    "gbtModel = pipeline.fit(trainingData)\n",
    "\n",
    "# Make predictions.\n",
    "predictions = gbtModel.transform(testData)\n",
    "\n",
    "# Select example rows to display.\n",
    "predictions.select(\"prediction\", \"indexedLabel\", \"features\").show(5)\n",
    "\n",
    "# Select (prediction, true label) and compute test error\n",
    "evaluator = MulticlassClassificationEvaluator(\n",
    "    labelCol=\"indexedLabel\", predictionCol=\"prediction\", metricName=\"accuracy\")\n",
    "accuracy = evaluator.evaluate(predictions)\n",
    "print(\"Test set accuracy = \", str(accuracy))\n",
    "\n",
    "method_list.append(\"GBT\")\n",
    "accuracy_list.append(accuracy)"
   ]
  },
  {
   "cell_type": "code",
   "execution_count": 19,
   "metadata": {
    "id": "O9sNFLH0b_LH"
   },
   "outputs": [
    {
     "name": "stdout",
     "output_type": "stream",
     "text": [
      "+----------+-----+--------------------+\n",
      "|prediction|label|            features|\n",
      "+----------+-----+--------------------+\n",
      "|       0.0|  0.0|(100,[0,8,23,29,4...|\n",
      "|       0.0|  0.0|(100,[0,8,23,29,4...|\n",
      "|       0.0|  0.0|(100,[0,8,23,29,4...|\n",
      "|       0.0|  0.0|(100,[0,8,23,29,4...|\n",
      "|       0.0|  0.0|(100,[0,8,23,29,4...|\n",
      "+----------+-----+--------------------+\n",
      "only showing top 5 rows\n",
      "\n",
      "Test set accuracy = 0.7948401685681982\n"
     ]
    }
   ],
   "source": [
    "# Multi-layer Perceptron\n",
    "\n",
    "from pyspark.ml.classification import MultilayerPerceptronClassifier\n",
    "from pyspark.ml.evaluation import MulticlassClassificationEvaluator\n",
    "\n",
    "layers = [100, 64, 32, 16, 2]\n",
    "\n",
    "# create the trainer and set its parameters\n",
    "trainer = MultilayerPerceptronClassifier(maxIter=100, layers=layers, blockSize=128, seed=100)\n",
    "\n",
    "# train the model\n",
    "mlpModel = trainer.fit(trainingData)\n",
    "\n",
    "# compute accuracy on the test set\n",
    "predictions = mlpModel.transform(testData)\n",
    "\n",
    "# Select example rows to display.\n",
    "predictions.select(\"prediction\", \"label\", \"features\").show(5)\n",
    "\n",
    "evaluator = MulticlassClassificationEvaluator(labelCol=\"label\", predictionCol=\"prediction\", metricName=\"accuracy\")\n",
    "accuracy = evaluator.evaluate(predictions)\n",
    "print(\"Test set accuracy = \" + str(accuracy))\n",
    "\n",
    "method_list.append(\"MLP\")\n",
    "accuracy_list.append(accuracy)"
   ]
  },
  {
   "cell_type": "code",
   "execution_count": 20,
   "metadata": {
    "id": "AG_EmZcfcCIU"
   },
   "outputs": [
    {
     "name": "stdout",
     "output_type": "stream",
     "text": [
      "+----------+-----+--------------------+\n",
      "|prediction|label|            features|\n",
      "+----------+-----+--------------------+\n",
      "|       0.0|  0.0|(100,[0,8,23,29,4...|\n",
      "|       0.0|  0.0|(100,[0,8,23,29,4...|\n",
      "|       0.0|  0.0|(100,[0,8,23,29,4...|\n",
      "|       0.0|  0.0|(100,[0,8,23,29,4...|\n",
      "|       0.0|  0.0|(100,[0,8,23,29,4...|\n",
      "+----------+-----+--------------------+\n",
      "only showing top 5 rows\n",
      "\n",
      "Test set accuracy = 0.7916538184808305\n"
     ]
    }
   ],
   "source": [
    "# Linear Support Vector Machine\n",
    "\n",
    "from pyspark.ml.classification import LinearSVC\n",
    "\n",
    "lsvc = LinearSVC(maxIter=10)\n",
    "\n",
    "# Fit the model\n",
    "lsvcModel = lsvc.fit(trainingData)\n",
    "\n",
    "# compute accuracy on the test set\n",
    "predictions = lsvcModel.transform(testData)\n",
    "\n",
    "# Select example rows to display.\n",
    "predictions.select(\"prediction\", \"label\", \"features\").show(5)\n",
    "\n",
    "evaluator = MulticlassClassificationEvaluator(labelCol=\"label\", predictionCol=\"prediction\", metricName=\"accuracy\")\n",
    "accuracy = evaluator.evaluate(predictions)\n",
    "print(\"Test set accuracy = \" + str(accuracy))\n",
    "\n",
    "method_list.append(\"LSVM\")\n",
    "accuracy_list.append(accuracy)"
   ]
  },
  {
   "cell_type": "code",
   "execution_count": 21,
   "metadata": {
    "id": "IvJc9VXrcGFU"
   },
   "outputs": [
    {
     "name": "stdout",
     "output_type": "stream",
     "text": [
      "+----------+-----+--------------------+\n",
      "|prediction|label|            features|\n",
      "+----------+-----+--------------------+\n",
      "|       1.0|  0.0|(100,[0,8,23,29,4...|\n",
      "|       0.0|  0.0|(100,[0,8,23,29,4...|\n",
      "|       1.0|  0.0|(100,[0,8,23,29,4...|\n",
      "|       0.0|  0.0|(100,[0,8,23,29,4...|\n",
      "|       0.0|  0.0|(100,[0,8,23,29,4...|\n",
      "+----------+-----+--------------------+\n",
      "only showing top 5 rows\n",
      "\n",
      "Test set accuracy =  0.8446911296124987\n"
     ]
    }
   ],
   "source": [
    "# One-vs-Rest\n",
    "\n",
    "from pyspark.ml.classification import LogisticRegression, OneVsRest\n",
    "from pyspark.ml.evaluation import MulticlassClassificationEvaluator\n",
    "\n",
    "# instantiate the base classifier.\n",
    "lr = LogisticRegression(maxIter=10, tol=1E-6, fitIntercept=True)\n",
    "\n",
    "# instantiate the One Vs Rest Classifier.\n",
    "ovr = OneVsRest(classifier=lr)\n",
    "\n",
    "# train the multiclass model.\n",
    "ovrModel = ovr.fit(trainingData)\n",
    "\n",
    "# score the model on test data.\n",
    "predictions = ovrModel.transform(testData)\n",
    "\n",
    "# Select example rows to display.\n",
    "predictions.select(\"prediction\", \"label\", \"features\").show(5)\n",
    "\n",
    "# obtain evaluator.\n",
    "evaluator = MulticlassClassificationEvaluator(labelCol=\"label\", predictionCol=\"prediction\", metricName=\"accuracy\")\n",
    "\n",
    "# compute the classification error on test data.\n",
    "accuracy = evaluator.evaluate(predictions)\n",
    "print(\"Test set accuracy = \", str(accuracy))\n",
    "\n",
    "method_list.append(\"OVR\")\n",
    "accuracy_list.append(accuracy)"
   ]
  },
  {
   "cell_type": "markdown",
   "metadata": {
    "id": "_WIIE8pEDSR9"
   },
   "source": [
    "4. Comparison and analysis"
   ]
  },
  {
   "cell_type": "code",
   "execution_count": 22,
   "metadata": {
    "id": "LpoclCFXD7tV"
   },
   "outputs": [
    {
     "name": "stdout",
     "output_type": "stream",
     "text": [
      "Method: GBT; Accuracy: 0.847775\n",
      "Method: LR; Accuracy: 0.844691\n",
      "Method: OVR; Accuracy: 0.844691\n",
      "Method: DT; Accuracy: 0.836777\n",
      "Method: RF; Accuracy: 0.817350\n",
      "Method: MLP; Accuracy: 0.794840\n",
      "Method: LSVM; Accuracy: 0.791654\n",
      "Method: NB; Accuracy: 0.779628\n"
     ]
    }
   ],
   "source": [
    "# Rank models according to Test set accuracy\n",
    "#=====your code here==========\n",
    "\n",
    "method_accuracy = dict(zip(method_list, accuracy_list))\n",
    "\n",
    "res = sorted(method_accuracy.items(), key = lambda x: x[1], reverse=True)\n",
    "\n",
    "for item in res:\n",
    "    print(\"Method: %s; Accuracy: %f\" % (item[0], item[1]))\n",
    "\n",
    "#==============================="
   ]
  },
  {
   "cell_type": "markdown",
   "metadata": {
    "id": "HL3j030aa7M8"
   },
   "source": [
    "Among all the methods, Gradient Boosting Tree achieves the highest accuracy, followed by Logistic Regression and One-vs-Rest. The Naive Beyes gives the poorest performance among all the methods. In the multi-layer Perception algprithm, if a deeper Perception model is used, the there will be an improvement on the accuracy."
   ]
  }
 ],
 "metadata": {
  "colab": {
   "collapsed_sections": [],
   "name": "6893_HW2PartI_LogisticRegression.ipynb",
   "provenance": []
  },
  "interpreter": {
   "hash": "3de1dab747730d9e960e74184afbed714f46be442f44964fa9e1e1e865a0df1a"
  },
  "kernelspec": {
   "display_name": "Python 3",
   "language": "python",
   "name": "python3"
  },
  "language_info": {
   "codemirror_mode": {
    "name": "ipython",
    "version": 3
   },
   "file_extension": ".py",
   "mimetype": "text/x-python",
   "name": "python",
   "nbconvert_exporter": "python",
   "pygments_lexer": "ipython3",
   "version": "3.8.8"
  }
 },
 "nbformat": 4,
 "nbformat_minor": 1
}
